{
 "cells": [
  {
   "cell_type": "code",
   "execution_count": 6,
   "id": "4c5534eb-30d9-4fc7-9459-1da85784ddf0",
   "metadata": {
    "tags": []
   },
   "outputs": [],
   "source": [
    "import os\n",
    "import numpy as np\n",
    "import pandas as pd\n",
    "import matplotlib.pyplot as plt\n",
    "from IPython.display import display, HTML, clear_output, JSON\n",
    "import ipywidgets as widgets\n",
    "import json"
   ]
  },
  {
   "cell_type": "code",
   "execution_count": 7,
   "id": "59f8147c-67a2-49de-b083-f118a3ea6719",
   "metadata": {
    "tags": []
   },
   "outputs": [],
   "source": [
    "def patient_info_visualization(patient_id, folder_path='./pads-dataset-1.0.0/patients/'):\n",
    "    patient_id_str = f\"{patient_id:03d}\"\n",
    "    \n",
    "    json_path = os.path.join(folder_path, f\"patient_{patient_id_str}.json\")\n",
    "    \n",
    "    if not os.path.exists(json_path):\n",
    "        print(f\"File not found: {json_path}\")\n",
    "        return\n",
    "        \n",
    "    with open(json_path, 'r') as f:\n",
    "        patient_data = json.load(f)\n",
    "    \n",
    "    print(f\"Patient {patient_id_str} Data Loaded:\")\n",
    "    \n",
    "    patient_df = pd.json_normalize(patient_data)\n",
    "    display(patient_df)"
   ]
  },
  {
   "cell_type": "code",
   "execution_count": 8,
   "id": "ad50769c-3862-4eab-a7f3-937fed76df58",
   "metadata": {
    "tags": []
   },
   "outputs": [],
   "source": [
    "def patient_quest_visualization(patient_id, folder_path='./pads-project-main/data/questionnaire/'):\n",
    "    \n",
    "    \n",
    "    ques_bin_file = os.path.join(folder_path, f\"{patient_id:03d}_ml.bin\")\n",
    "    \n",
    "    ques_data = np.fromfile(ques_bin_file, dtype=np.float32)\n",
    "\n",
    "    questions_info = [\n",
    "        # Category, Question Number, Symptom\n",
    "        (\"Gastrointestinal tract\", 1, \"Dribbling\"),\n",
    "        (\"Gastrointestinal tract\", 3, \"Swallowing\"),\n",
    "        (\"Gastrointestinal tract\", 4, \"Vomiting\"),\n",
    "        (\"Gastrointestinal tract\", 5, \"Constipation\"),\n",
    "        (\"Gastrointestinal tract\", 6, \"Bowel inconsistence\"),\n",
    "        (\"Gastrointestinal tract\", 7, \"Bowel emptying incomplete\"),\n",
    "        (\"Urinal tract\", 8, \"Urgency\"),\n",
    "        (\"Urinal tract\", 9, \"Nocturia\"),\n",
    "        (\"Pain\", 10, \"Pains\"),\n",
    "        (\"Miscellaneous\", 11, \"Weight\"),\n",
    "        (\"Miscellaneous\", 28, \"Sweating\"),\n",
    "        (\"Miscellaneous\", 29, \"Diplopia\"),\n",
    "        (\"Apathy/attention/memory\", 12, \"Remembering\"),\n",
    "        (\"Apathy/attention/memory\", 13, \"Loss of interest\"),\n",
    "        (\"Apathy/attention/memory\", 15, \"Concentrating\"),\n",
    "        (\"Distortion of perception\", 2, \"Taste/smelling\"),\n",
    "        (\"Distortion of perception\", 14, \"Hallucinations\"),\n",
    "        (\"Distortion of perception\", 30, \"Delusions\"),\n",
    "        (\"Depression/anxiety\", 16, \"Sad, blues\"),\n",
    "        (\"Depression/anxiety\", 17, \"Anxiety\"),\n",
    "        (\"Sexual function\", 18, \"Sex drive\"),\n",
    "        (\"Sexual function\", 19, \"Sex difficulty\"),\n",
    "        (\"Cardiovascular\", 20, \"Dizzy\"),\n",
    "        (\"Cardiovascular\", 21, \"Falling\"),\n",
    "        (\"Cardiovascular\", 27, \"Swelling\"),\n",
    "        (\"Sleep/fatigue\", 22, \"Daytime sleepiness\"),\n",
    "        (\"Sleep/fatigue\", 23, \"Insomnia\"),\n",
    "        (\"Sleep/fatigue\", 24, \"Intense vivid dreams\"),\n",
    "        (\"Sleep/fatigue\", 25, \"Acting out during dreams\"),\n",
    "        (\"Sleep/fatigue\", 26, \"Restless legs\"),\n",
    "    ]\n",
    "\n",
    "\n",
    "    data = []\n",
    "    for cat, q_num, symptom in questions_info:\n",
    "        \n",
    "        answer_idx = q_num - 1\n",
    "        if answer_idx >= len(ques_data):\n",
    "            answer = \"N/A\"\n",
    "        else:\n",
    "            if ques_data[answer_idx] == 1:\n",
    "                answer = '<span style=\"color: green; font-weight: bold;\">YES</span>'\n",
    "            else:\n",
    "                answer = '<span style=\"color: red; font-weight: bold;\">NO</span>'\n",
    "        data.append([cat, symptom, q_num, answer])\n",
    "\n",
    "    df = pd.DataFrame(data, columns=[\"Category\", \"Symptom\", \"Question Number\", \"Answer\"])\n",
    "\n",
    "    display(HTML(df.to_html(escape=False, index=False)))"
   ]
  },
  {
   "cell_type": "code",
   "execution_count": 9,
   "id": "d79d7bea-a42c-4f0c-b022-ee9a73df66cc",
   "metadata": {
    "tags": []
   },
   "outputs": [],
   "source": [
    "def patient_mov_visualization(patient_id, folder_path='./pads-project-main/data/movements/'):\n",
    "    move_bin_file = f\"./pads-project-main/data/movement/{patient_id:03d}_ml.bin\"\n",
    "    \n",
    "    move_data = np.fromfile(move_bin_file, dtype=np.float32)\n",
    "    \n",
    "    num_sensors = 6  # Accel_X, Accel_Y, Accel_Z, Gyro_X, Gyro_Y, Gyro_Z\n",
    "    num_samples = move_data.shape[0] // num_sensors\n",
    "    sensor_data = move_data.reshape((num_samples, num_sensors))\n",
    "    \n",
    "    sampling_rate = 100  # 100 Hz → 100 samples per second\n",
    "\n",
    "    task_durations = {\n",
    "        \"Relaxed1\": (0, 976),  \n",
    "        \"Relaxed2\": (976, 2 * 976),\n",
    "        \"RelaxedTask1\": (2 * 976 , 3 * 976),\n",
    "        \"RelaxedTask2\": (3 * 976 , 4 * 976),\n",
    "        \"StretchHold\": (4 * 976 , 5 * 976),\n",
    "        \"HoldWeight\": (5 * 976 , 6 * 976),\n",
    "        \"DrinkGlas\": (6 * 976 , 7 * 976),\n",
    "        \"CrossArms\": (7 * 976 , 8 * 976),\n",
    "        \"TouchNose\": (8 * 976 , 9 * 976),\n",
    "        \"Entrainment1\": (9 * 976 , 10 * 976),\n",
    "        \"Entrainment2\": (10 * 976 , 11 * 976)\n",
    "    }\n",
    "\n",
    "    fig, axes = plt.subplots(len(task_durations), 2, figsize=(12, len(task_durations) * 2))\n",
    "\n",
    "    for idx, (task, (start_idx, end_idx)) in enumerate(task_durations.items()):\n",
    "\n",
    "        task_time = np.arange((end_idx - start_idx)) / sampling_rate\n",
    "        task_data = sensor_data[start_idx:end_idx, :]\n",
    "\n",
    "        axes[idx, 0].plot(task_time, task_data[:, 0], label=\"Accel X\")\n",
    "        axes[idx, 0].plot(task_time, task_data[:, 1], label=\"Accel Y\")\n",
    "        axes[idx, 0].plot(task_time, task_data[:, 2], label=\"Accel Z\")\n",
    "        axes[idx, 0].set_title(f\"PID: {patient_id:03d}, {task} - Accelerometer\")\n",
    "        axes[idx, 0].set_xlabel(\"Time (s)\")\n",
    "        axes[idx, 0].set_ylabel(\"Acceleration (m/s²)\")\n",
    "        axes[idx, 0].legend()\n",
    "\n",
    "        axes[idx, 1].plot(task_time, task_data[:, 3], label=\"Gyro X\")\n",
    "        axes[idx, 1].plot(task_time, task_data[:, 4], label=\"Gyro Y\")\n",
    "        axes[idx, 1].plot(task_time, task_data[:, 5], label=\"Gyro Z\")\n",
    "        axes[idx, 1].set_title(f\"PID: {patient_id:03d}, {task} - Gyroscope\")\n",
    "        axes[idx, 1].set_xlabel(\"Time (s)\")\n",
    "        axes[idx, 1].set_ylabel(\"Rotation (°/s)\")\n",
    "        axes[idx, 1].legend()\n",
    "\n",
    "    plt.tight_layout()\n",
    "    plt.show()\n",
    "    "
   ]
  },
  {
   "cell_type": "code",
   "execution_count": 10,
   "id": "a03fd4e1-ec54-49f6-bac3-db6a97beeeac",
   "metadata": {
    "tags": []
   },
   "outputs": [
    {
     "data": {
      "application/vnd.jupyter.widget-view+json": {
       "model_id": "71ce6604b7e1428c97f4ee9fc13fdf2a",
       "version_major": 2,
       "version_minor": 0
      },
      "text/plain": [
       "Text(value='1', description='Participant ID (1 ~ 469):', style=TextStyle(description_width='initial'))"
      ]
     },
     "metadata": {},
     "output_type": "display_data"
    },
    {
     "data": {
      "application/vnd.jupyter.widget-view+json": {
       "model_id": "10aa87c5cb224650bf134a17007894f9",
       "version_major": 2,
       "version_minor": 0
      },
      "text/plain": [
       "Button(button_style='info', description='Plot Data', style=ButtonStyle())"
      ]
     },
     "metadata": {},
     "output_type": "display_data"
    },
    {
     "data": {
      "application/vnd.jupyter.widget-view+json": {
       "model_id": "b2c37718f3a7476eabda22968a7c01eb",
       "version_major": 2,
       "version_minor": 0
      },
      "text/plain": [
       "Output()"
      ]
     },
     "metadata": {},
     "output_type": "display_data"
    }
   ],
   "source": [
    "participant_id = widgets.Text(\n",
    "    value='1',\n",
    "    description='Participant ID (1 ~ 469):',\n",
    "    style={'description_width': 'initial'}\n",
    ")\n",
    "plot_button = widgets.Button(description=\"Plot Data\", button_style='info')\n",
    "\n",
    "output = widgets.Output()\n",
    "\n",
    "def plot_data(b):\n",
    "    with output:\n",
    "        clear_output(wait=True)  # Clear previous output\n",
    "\n",
    "        # Load movement data\n",
    "        patient_id = int(participant_id.value)\n",
    "        patient_info_visualization(patient_id)\n",
    "        patient_quest_visualization(patient_id)\n",
    "        patient_mov_visualization(patient_id)\n",
    "\n",
    "\n",
    "plot_button.on_click(plot_data)\n",
    "\n",
    "\n",
    "display(participant_id)\n",
    "\n",
    "display(plot_button)\n",
    "display(output)\n"
   ]
  },
  {
   "cell_type": "code",
   "execution_count": 16,
   "id": "bc889058-cac1-4043-9369-3cc54c775d74",
   "metadata": {
    "tags": []
   },
   "outputs": [
    {
     "data": {
      "application/vnd.jupyter.widget-view+json": {
       "model_id": "6164b22be6d34546a22db1d6b21e5648",
       "version_major": 2,
       "version_minor": 0
      },
      "text/plain": [
       "Text(value='55', description='Participant ID (1 ~ 469):', style=TextStyle(description_width='initial'))"
      ]
     },
     "metadata": {},
     "output_type": "display_data"
    },
    {
     "data": {
      "application/vnd.jupyter.widget-view+json": {
       "model_id": "4096ebbc60c14a0abf584a087cd2e1f7",
       "version_major": 2,
       "version_minor": 0
      },
      "text/plain": [
       "VBox(children=(Checkbox(value=False, description='Accel X'), Checkbox(value=False, description='Accel Y'), Che…"
      ]
     },
     "metadata": {},
     "output_type": "display_data"
    },
    {
     "data": {
      "application/vnd.jupyter.widget-view+json": {
       "model_id": "13341170831745bd8ff4b1acd7826806",
       "version_major": 2,
       "version_minor": 0
      },
      "text/plain": [
       "Dropdown(description='Questionnaire:', options=('Show All', 'Question 1', 'Question 2', 'Question 3', 'Questio…"
      ]
     },
     "metadata": {},
     "output_type": "display_data"
    },
    {
     "data": {
      "application/vnd.jupyter.widget-view+json": {
       "model_id": "05e65da5c6c64126924c923830a23db6",
       "version_major": 2,
       "version_minor": 0
      },
      "text/plain": [
       "Button(button_style='info', description='Plot Data', style=ButtonStyle())"
      ]
     },
     "metadata": {},
     "output_type": "display_data"
    },
    {
     "data": {
      "application/vnd.jupyter.widget-view+json": {
       "model_id": "c7d64d89976344bca4c39dccad7a8149",
       "version_major": 2,
       "version_minor": 0
      },
      "text/plain": [
       "Output()"
      ]
     },
     "metadata": {},
     "output_type": "display_data"
    }
   ],
   "source": [
    "import numpy as np\n",
    "import matplotlib.pyplot as plt\n",
    "import ipywidgets as widgets\n",
    "from IPython.display import display, clear_output\n",
    "\n",
    "participant_id = widgets.Text(\n",
    "    value='55',\n",
    "    description='Participant ID (1 ~ 469):',\n",
    "    style={'description_width': 'initial'}\n",
    ")\n",
    "\n",
    "sensor_options = [\n",
    "    ('Accel X', 0), ('Accel Y', 1), ('Accel Z', 2),\n",
    "    ('Gyro X', 3), ('Gyro Y', 4), ('Gyro Z', 5)\n",
    "]\n",
    "sensor_checkboxes = {label: widgets.Checkbox(value=False, description=label) for label, _ in sensor_options}\n",
    "\n",
    "questionnaire_dropdown = widgets.Dropdown(\n",
    "    options=[\"Show All\"] + [f\"Question {i+1}\" for i in range(30)],  # Assume 30 questions\n",
    "    description=\"Questionnaire:\",\n",
    "    style={'description_width': 'initial'}\n",
    ")\n",
    "\n",
    "plot_button = widgets.Button(description=\"Plot Data\", button_style='info')\n",
    "\n",
    "# Output widget to display results\n",
    "output = widgets.Output()\n",
    "\n",
    "# Function to load and visualize the data\n",
    "def plot_data(b):\n",
    "    with output:\n",
    "        clear_output(wait=True)  # Clear previous output\n",
    "\n",
    "        # Load movement data\n",
    "        p_id_int = int(participant_id.value)\n",
    "        move_bin_file = f\"./pads-project-main/data/movement/{p_id_int:03d}_ml.bin\"\n",
    "        print(f\"Movement file Path: ./pads-project-main/data/questionnaire/{p_id_int:03d}_ml.bin\")\n",
    "        try:\n",
    "            move_data = np.fromfile(move_bin_file, dtype=np.float32)\n",
    "            num_sensors = 6  # Accel X, Accel Y, Accel Z, Gyro X, Gyro Y, Gyro Z\n",
    "            num_samples = move_data.shape[0] // num_sensors\n",
    "            move_data = move_data.reshape((num_samples, num_sensors))\n",
    "            time_axis = np.arange(num_samples) / 100  # 100 Hz sampling rate\n",
    "        except:\n",
    "            print(f\"Error loading movement file: {move_bin_file}\")\n",
    "            return\n",
    "\n",
    "        # Extract selected sensor data\n",
    "        selected_sensors = [i for label, i in sensor_options if sensor_checkboxes[label].value]\n",
    "        if not selected_sensors:\n",
    "            print(\"No sensor selected for visualization.\")\n",
    "            return\n",
    "\n",
    "        # Plot selected sensor data\n",
    "        plt.figure(figsize=(12, 5))\n",
    "        for i in selected_sensors:\n",
    "            plt.plot(time_axis, move_data[:, i], label=sensor_options[i][0])\n",
    "\n",
    "        plt.title(f\"Movement Data for Participant {participant_id.value}\")\n",
    "        plt.xlabel(\"Time (s)\")\n",
    "        plt.ylabel(\"Sensor Values\")\n",
    "        plt.legend()\n",
    "        plt.grid()\n",
    "        plt.show()\n",
    "\n",
    "        # Load questionnaire data\n",
    "        questionnaire_file = f\"./pads-project-main/data/questionnaire/{p_id_int:03d}_ml.bin\"\n",
    "        print(f\"Questionnarrie File Path: ./pads-project-main/data/questionnaire/{p_id_int:03d}_ml.bin\")\n",
    "        try:\n",
    "            questionnaire_data = np.fromfile(questionnaire_file, dtype=np.float32)\n",
    "            print(\"Questionnaire data shape: \", questionnaire_data.shape)\n",
    "            if questionnaire_dropdown.value == \"Show All\":\n",
    "                print(f\"Questionnaire Responses for Participant {participant_id.value}:\")\n",
    "                print(questionnaire_data)\n",
    "            else:\n",
    "                question_idx = int(questionnaire_dropdown.value.split(\" \")[1]) - 1\n",
    "                print(f\"Response to {questionnaire_dropdown.value}: {questionnaire_data[question_idx]}\")\n",
    "        except:\n",
    "            print(f\"Error loading questionnaire file: {questionnaire_file}\")\n",
    "\n",
    "# Link button click event to function\n",
    "plot_button.on_click(plot_data)\n",
    "\n",
    "# Display UI elements\n",
    "display(participant_id)\n",
    "display(widgets.VBox(list(sensor_checkboxes.values())))\n",
    "display(questionnaire_dropdown)\n",
    "display(plot_button)\n",
    "display(output)\n"
   ]
  },
  {
   "cell_type": "code",
   "execution_count": 9,
   "id": "e784bc7d-834d-4934-bf40-2df76b52f3c2",
   "metadata": {
    "tags": []
   },
   "outputs": [
    {
     "name": "stdout",
     "output_type": "stream",
     "text": [
      "3.9.18 | packaged by conda-forge | (main, Dec 23 2023, 16:33:10) \n",
      "[GCC 12.3.0]\n",
      "sys.version_info(major=3, minor=9, micro=18, releaselevel='final', serial=0)\n",
      "\n",
      "Installed Package Versions:\n",
      "\n",
      "torch          : 2.4.1\n",
      "torchvision    : 0.19.1\n",
      "torchaudio     : 2.4.1\n",
      "tensorflow     : 2.14.0\n",
      "keras          : 2.14.0\n",
      "numpy          : 1.26.4\n",
      "pandas         : 2.2.3\n",
      "scikit-learn   : 1.6.1\n",
      "scipy          : 1.13.1\n",
      "matplotlib     : 3.9.4\n",
      "seaborn        : 0.13.2\n",
      "fastai         : 2.7.19\n",
      "tsai           : 0.4.0\n",
      "catboost       : 1.2.7\n"
     ]
    }
   ],
   "source": [
    "import sys\n",
    "print(sys.version)\n",
    "print(sys.version_info)\n",
    "\n",
    "packages = {\n",
    "    \"torch\": \"torch\",\n",
    "    \"torchvision\": \"torchvision\",\n",
    "    \"torchaudio\": \"torchaudio\",\n",
    "    \"tensorflow\": \"tensorflow\",\n",
    "    \"keras\": \"keras\",\n",
    "    \"numpy\": \"numpy\",\n",
    "    \"pandas\": \"pandas\",\n",
    "    \"scikit-learn\": \"sklearn\",\n",
    "    \"scipy\": \"scipy\",\n",
    "    \"matplotlib\": \"matplotlib\",\n",
    "    \"seaborn\": \"seaborn\",\n",
    "    \"fastai\": \"fastai\",\n",
    "    \"tsai\": \"tsai\",\n",
    "    \"catboost\": \"catboost\"\n",
    "}\n",
    "\n",
    "print(\"\\nInstalled Package Versions:\\n\")\n",
    "\n",
    "for name, module_name in packages.items():\n",
    "    try:\n",
    "        module = __import__(module_name)\n",
    "        version = getattr(module, '__version__', 'Unknown')\n",
    "        print(f\"{name:<15}: {version}\")\n",
    "    except ImportError:\n",
    "        print(f\"{name:<15}: ❌ Not installed\")"
   ]
  },
  {
   "cell_type": "code",
   "execution_count": null,
   "id": "eccbed19-bdd3-4a70-a828-e9837224a901",
   "metadata": {},
   "outputs": [],
   "source": []
  }
 ],
 "metadata": {
  "kernelspec": {
   "display_name": "Python 3.9 (Deep Learning) CUDA 11.8",
   "language": "python",
   "name": "env_dl"
  },
  "language_info": {
   "codemirror_mode": {
    "name": "ipython",
    "version": 3
   },
   "file_extension": ".py",
   "mimetype": "text/x-python",
   "name": "python",
   "nbconvert_exporter": "python",
   "pygments_lexer": "ipython3",
   "version": "3.9.18"
  }
 },
 "nbformat": 4,
 "nbformat_minor": 5
}
