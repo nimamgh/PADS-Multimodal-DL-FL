{
 "cells": [
  {
   "cell_type": "code",
   "execution_count": 193,
   "id": "8a2eebeb-d333-4f9f-bb33-a507e833a05d",
   "metadata": {
    "tags": []
   },
   "outputs": [],
   "source": [
    "import json\n",
    "from pathlib import Path\n",
    "import pandas as pd\n",
    "import os\n",
    "from tabulate import tabulate"
   ]
  },
  {
   "cell_type": "markdown",
   "id": "5bce16ba-85bb-41f9-8886-f9c7449bc38e",
   "metadata": {},
   "source": [
    "# Creating Complete Patients Tabular Dataset"
   ]
  },
  {
   "cell_type": "code",
   "execution_count": 194,
   "id": "97a72d37-99ca-4f3c-bd45-81c5c8b25682",
   "metadata": {
    "tags": []
   },
   "outputs": [],
   "source": [
    "# New directory for storing merged tabular patient data\n",
    "ptabular_path = './pads-project-main/data/ptables/'\n",
    "Path(ptabular_path).mkdir(parents=True, exist_ok=True)\n",
    "\n",
    "# Input directories\n",
    "patients_dir = Path('./pads-dataset-1.0.0/patients/')\n",
    "questionnaire_dir = Path('./pads-dataset-1.0.0/questionnaire/')"
   ]
  },
  {
   "cell_type": "code",
   "execution_count": 195,
   "id": "e18dd66d-21bb-4b2b-ac97-cccf47915fee",
   "metadata": {
    "tags": []
   },
   "outputs": [],
   "source": [
    "condition_set = set()\n",
    "\n",
    "for patient_file in patients_dir.glob(\"*.json\"):\n",
    "    with open(patient_file) as f:\n",
    "        p_data = json.load(f)\n",
    "        condition_set.add(p_data[\"condition\"])"
   ]
  },
  {
   "cell_type": "code",
   "execution_count": 196,
   "id": "ed162123-a268-4dac-8dc8-7d01df3ad89c",
   "metadata": {
    "tags": []
   },
   "outputs": [],
   "source": [
    "# Custom group-based condition map\n",
    "condition_map = {\n",
    "    \"Healthy\": 0,\n",
    "    \"Parkinson's\": 1,\n",
    "    \"Atypical Parkinsonism\": 2,\n",
    "    \"Essential Tremor\": 2,\n",
    "    \"Multiple Sclerosis\": 2,\n",
    "    \"Other Movement Disorders\": 2\n",
    "}\n",
    "\n",
    "gender_map = {\"male\": -1, \"female\": 1}\n",
    "\n",
    "hand_map = {\"right\": -1, \"left\": 1}\n",
    "\n",
    "bool_map = {True: 1, False: 0}\n",
    "\n",
    "effal_map = {\n",
    "    \"unknown\": 0,\n",
    "    \"worsens\": 1,\n",
    "    \"worsening\": 1,\n",
    "    \"no effect\": 2,\n",
    "    \"improves\": 3\n",
    "}\n",
    "\n",
    "def map_bool_like(value):\n",
    "    if str(value).strip().lower() == \"true\":\n",
    "        return 1\n",
    "    elif str(value).strip().lower() == \"false\":\n",
    "        return -1\n",
    "    else:\n",
    "        return 0  # For None, \"null\", \"N/A\", \"\", unexpected values\n"
   ]
  },
  {
   "cell_type": "code",
   "execution_count": 197,
   "id": "932b7a07-f807-4161-843c-874f86ddd5cf",
   "metadata": {
    "tags": []
   },
   "outputs": [
    {
     "name": "stdout",
     "output_type": "stream",
     "text": [
      "Tabular files created and saved successfully.\n"
     ]
    }
   ],
   "source": [
    "import numpy as np\n",
    "\n",
    "for patient_file in patients_dir.glob(\"*.json\"):\n",
    "    patient_id = patient_file.stem.split(\"_\")[-1]\n",
    "    questionnaire_file = questionnaire_dir / f\"questionnaire_response_{patient_id}.json\"\n",
    "    \n",
    "    if not questionnaire_file.exists():\n",
    "        print(f\"Missing questionnaire for patient {patient_id}. Skipping...\")\n",
    "        continue\n",
    "\n",
    "    with open(patient_file) as f:\n",
    "        p_data = json.load(f)\n",
    "\n",
    "    with open(questionnaire_file) as f:\n",
    "        q_data = json.load(f)\n",
    "\n",
    "    condition_str = p_data[\"condition\"]\n",
    "    condition_encoded = condition_map.get(condition_str, -1)\n",
    "\n",
    "    if condition_encoded == -1:\n",
    "        print(f\"Unknown condition '{condition_str}' for patient {patient_id}. Skipping...\")\n",
    "        continue\n",
    "\n",
    "    # Encode values\n",
    "    gender_enc = gender_map.get(p_data.get(\"gender\", \"\").lower(), 0)  # 0 = unknown/neutral\n",
    "    hand_enc = hand_map.get(p_data.get(\"handedness\", \"\").lower(), 0)\n",
    "    apprik_enc = map_bool_like(p_data.get(\"appearance_in_kinship\"))\n",
    "    apprifgk_enc = map_bool_like(p_data.get(\"appearance_in_first_grade_kinship\"))\n",
    "    effal_enc = effal_map.get(str(p_data.get(\"effect_of_alcohol_on_tremor\")).strip().lower(), -10)\n",
    "\n",
    "    # Use np.nan for invalid/missing numeric values\n",
    "    def safe_num(val):\n",
    "        try:\n",
    "            v = float(val)\n",
    "            return v if v >= 0 else np.nan\n",
    "        except:\n",
    "            return np.nan\n",
    "\n",
    "    age = safe_num(p_data.get(\"age\"))\n",
    "    age_diag = safe_num(p_data.get(\"age_at_diagnosis\"))\n",
    "    height = safe_num(p_data.get(\"height\"))\n",
    "    weight = safe_num(p_data.get(\"weight\"))\n",
    "\n",
    "    # Flatten patient info\n",
    "    patient_flat = {\n",
    "        \"p_id\": p_data[\"id\"],\n",
    "        \"s_id\": p_data[\"study_id\"],\n",
    "        \"con\": condition_str,\n",
    "        \"con_lbl\": condition_encoded,\n",
    "        \"age\": age,\n",
    "        \"age_diag\": age_diag,\n",
    "        \"height\": height,\n",
    "        \"weight\": weight,\n",
    "        \"gender\": gender_enc,\n",
    "        \"hand\": hand_enc,\n",
    "        \"apprik\": apprik_enc,\n",
    "        \"apprifgk\": apprifgk_enc,\n",
    "        \"effal\": effal_enc\n",
    "    }\n",
    "\n",
    "    # Flatten questionnaire answers\n",
    "    q_flat = {\n",
    "        f\"q{str(i).zfill(2)}\": map_bool_like(item[\"answer\"])\n",
    "        for i, item in enumerate(q_data[\"item\"], start=1)\n",
    "    }\n",
    "\n",
    "    # Combine and save as .bin\n",
    "    df = pd.DataFrame([{**patient_flat, **q_flat}])\n",
    "    df.to_pickle(f\"{ptabular_path}{patient_id}_tbl_ml.bin\")\n",
    "\n",
    "print(\"Tabular files created and saved successfully.\")"
   ]
  },
  {
   "cell_type": "markdown",
   "id": "5836f928-1b10-4c62-a3f4-d89acbea629b",
   "metadata": {},
   "source": [
    "# Validating Created Files"
   ]
  },
  {
   "cell_type": "code",
   "execution_count": 198,
   "id": "aa6ee9e3-6250-4fb9-ac65-1ec0311039c1",
   "metadata": {
    "tags": []
   },
   "outputs": [
    {
     "name": "stdout",
     "output_type": "stream",
     "text": [
      "Tabular data saved in: ./pads-project-main/data/ptables/\n"
     ]
    }
   ],
   "source": [
    "print(f\"Tabular data saved in: {ptabular_path}\")"
   ]
  },
  {
   "cell_type": "code",
   "execution_count": 199,
   "id": "ea5d2f10-f888-4347-ae4a-2a6871dc166f",
   "metadata": {
    "tags": []
   },
   "outputs": [
    {
     "name": "stdout",
     "output_type": "stream",
     "text": [
      "Total tabular files created: 469\n"
     ]
    }
   ],
   "source": [
    "ptabular_path = './pads-project-main/data/ptables/'\n",
    "created_files = [f for f in os.listdir(ptabular_path) if f.endswith('_tbl_ml.bin')]\n",
    "\n",
    "print(f\"Total tabular files created: {len(created_files)}\")"
   ]
  },
  {
   "cell_type": "code",
   "execution_count": 200,
   "id": "5d8c8f22-17bb-4b03-afd4-791b3ed76d16",
   "metadata": {
    "tags": []
   },
   "outputs": [
    {
     "name": "stdout",
     "output_type": "stream",
     "text": [
      "                0\n",
      "p_id          001\n",
      "s_id         PADS\n",
      "con       Healthy\n",
      "con_lbl         0\n",
      "age          56.0\n",
      "age_diag     56.0\n",
      "height      173.0\n",
      "weight       78.0\n",
      "gender         -1\n",
      "hand           -1\n",
      "apprik          1\n",
      "apprifgk        1\n",
      "effal           0\n",
      "q01            -1\n",
      "q02            -1\n",
      "q03            -1\n",
      "q04            -1\n",
      "q05            -1\n",
      "q06            -1\n",
      "q07            -1\n",
      "q08            -1\n",
      "q09            -1\n",
      "q10            -1\n",
      "q11            -1\n",
      "q12            -1\n",
      "q13            -1\n",
      "q14            -1\n",
      "q15            -1\n",
      "q16            -1\n",
      "q17            -1\n",
      "q18            -1\n",
      "q19            -1\n",
      "q20            -1\n",
      "q21            -1\n",
      "q22            -1\n",
      "q23            -1\n",
      "q24            -1\n",
      "q25            -1\n",
      "q26            -1\n",
      "q27            -1\n",
      "q28            -1\n",
      "q29            -1\n",
      "q30            -1\n"
     ]
    }
   ],
   "source": [
    "import pandas as pd\n",
    "\n",
    "sample_file = './pads-project-main/data/ptables/001_tbl_ml.bin'\n",
    "\n",
    "df = pd.read_pickle(sample_file)\n",
    "\n",
    "print(df.T)"
   ]
  },
  {
   "cell_type": "code",
   "execution_count": 201,
   "id": "b7160ba0-e202-4834-9a97-ef516dbd90db",
   "metadata": {
    "tags": []
   },
   "outputs": [
    {
     "name": "stdout",
     "output_type": "stream",
     "text": [
      "Data types:\n",
      "p_id         object\n",
      "s_id         object\n",
      "con          object\n",
      "con_lbl       int64\n",
      "age         float64\n",
      "age_diag    float64\n",
      "height      float64\n",
      "weight      float64\n",
      "gender        int64\n",
      "hand          int64\n",
      "apprik        int64\n",
      "apprifgk      int64\n",
      "effal         int64\n",
      "q01           int64\n",
      "q02           int64\n",
      "q03           int64\n",
      "q04           int64\n",
      "q05           int64\n",
      "q06           int64\n",
      "q07           int64\n",
      "q08           int64\n",
      "q09           int64\n",
      "q10           int64\n",
      "q11           int64\n",
      "q12           int64\n",
      "q13           int64\n",
      "q14           int64\n",
      "q15           int64\n",
      "q16           int64\n",
      "q17           int64\n",
      "q18           int64\n",
      "q19           int64\n",
      "q20           int64\n",
      "q21           int64\n",
      "q22           int64\n",
      "q23           int64\n",
      "q24           int64\n",
      "q25           int64\n",
      "q26           int64\n",
      "q27           int64\n",
      "q28           int64\n",
      "q29           int64\n",
      "q30           int64\n",
      "dtype: object\n"
     ]
    }
   ],
   "source": [
    "print(\"Data types:\")\n",
    "print(df.dtypes)"
   ]
  },
  {
   "cell_type": "code",
   "execution_count": 202,
   "id": "5841e149-29e3-4c48-be11-e59e7ce9c331",
   "metadata": {},
   "outputs": [
    {
     "name": "stdout",
     "output_type": "stream",
     "text": [
      "\n",
      "Files with unusual values:\n",
      "\n",
      "Checked 469 files; Found 0 with issues.\n"
     ]
    }
   ],
   "source": [
    "import pandas as pd\n",
    "import numpy as np\n",
    "from pathlib import Path\n",
    "\n",
    "ptable_path = Path(\"./pads-project-main/data/ptables/\")\n",
    "bad_files = []\n",
    "\n",
    "# Features to check\n",
    "numeric_cols = [\"age\", \"age_diag\", \"height\", \"weight\"]\n",
    "bool_cols = [\"gender\", \"hand\", \"apprik\"]\n",
    "# bool_cols = [\"gender\", \"hand\", \"apprik\", \"apprifgk\", \"effal\"]\n",
    "label_col = \"con_lbl\"\n",
    "\n",
    "# Iterate through .bin files\n",
    "for file in ptable_path.glob(\"*.bin\"):\n",
    "    df = pd.read_pickle(file)\n",
    "\n",
    "    row = df.iloc[0]  # one row per file\n",
    "    bad = False\n",
    "\n",
    "    for col in numeric_cols:\n",
    "        if pd.isna(row[col]):\n",
    "            print(f\"NaN in {col} of file {file.name}\")\n",
    "            bad = True\n",
    "\n",
    "    for col in bool_cols:\n",
    "        if row[col] == 0:\n",
    "            print(f\"Unknown (0) in {col} of file {file.name}\")\n",
    "            bad = True\n",
    "\n",
    "    if row[label_col] == -1:\n",
    "        print(f\"Invalid condition label in file {file.name}\")\n",
    "        bad = True\n",
    "\n",
    "    if bad:\n",
    "        bad_files.append(file.name)\n",
    "\n",
    "print(\"\\nFiles with unusual values:\")\n",
    "for name in bad_files:\n",
    "    print(f\" - {name}\")\n",
    "\n",
    "print(f\"\\nChecked {len(list(ptable_path.glob('*.bin')))} files; Found {len(bad_files)} with issues.\")\n"
   ]
  },
  {
   "cell_type": "code",
   "execution_count": 203,
   "id": "92b0f1f2-bd13-4110-9768-2e13ba4e95c5",
   "metadata": {
    "tags": []
   },
   "outputs": [
    {
     "name": "stderr",
     "output_type": "stream",
     "text": [
      "100%|██████████| 469/469 [00:00<00:00, 4425.65it/s]"
     ]
    },
    {
     "name": "stdout",
     "output_type": "stream",
     "text": [
      "Saved 469 patients to tabular_all_patients.csv\n"
     ]
    },
    {
     "name": "stderr",
     "output_type": "stream",
     "text": [
      "\n"
     ]
    }
   ],
   "source": [
    "import os\n",
    "import pickle\n",
    "import pandas as pd\n",
    "from tqdm import tqdm\n",
    "\n",
    "tabular_path = \"./pads-project-main/data/ptables/\"\n",
    "patient_ids = [f\"{i:03d}\" for i in range(1, 470)]\n",
    "\n",
    "records = []\n",
    "\n",
    "for pid in tqdm(patient_ids):\n",
    "    tab_file = os.path.join(tabular_path, f\"{pid}_tbl_ml.bin\")\n",
    "    if not os.path.exists(tab_file):\n",
    "        continue\n",
    "\n",
    "    try:\n",
    "        with open(tab_file, \"rb\") as f:\n",
    "            tab_data = pickle.load(f)  \n",
    "        records.append(tab_data.iloc[0].to_dict()) \n",
    "    except Exception as e:\n",
    "        print(f\"Error loading {pid}: {e}\")\n",
    "\n",
    "\n",
    "df = pd.DataFrame.from_records(records)\n",
    "df.to_csv(\"./pads-project-main/data/tabular_all_patients.csv\", index=False)\n",
    "print(f\"Saved {len(df)} patients to tabular_all_patients.csv\")\n"
   ]
  },
  {
   "cell_type": "code",
   "execution_count": null,
   "id": "e72f769d-250c-4024-bf72-3ca9d2e51db5",
   "metadata": {},
   "outputs": [],
   "source": []
  }
 ],
 "metadata": {
  "kernelspec": {
   "display_name": "Python 3.9 (Deep Learning) CUDA 11.8",
   "language": "python",
   "name": "env_dl"
  },
  "language_info": {
   "codemirror_mode": {
    "name": "ipython",
    "version": 3
   },
   "file_extension": ".py",
   "mimetype": "text/x-python",
   "name": "python",
   "nbconvert_exporter": "python",
   "pygments_lexer": "ipython3",
   "version": "3.9.18"
  }
 },
 "nbformat": 4,
 "nbformat_minor": 5
}
